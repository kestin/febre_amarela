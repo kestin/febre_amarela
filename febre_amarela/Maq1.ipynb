{
 "cells": [
  {
   "cell_type": "markdown",
   "metadata": {},
   "source": [
    "# Machine Learning\n",
    "### Treinamento para detecção de febre amarela."
   ]
  },
  {
   "cell_type": "code",
   "execution_count": 20,
   "metadata": {
    "collapsed": true
   },
   "outputs": [],
   "source": [
    "import numpy as np\n",
    "from sklearn.naive_bayes import MultinomialNB"
   ]
  },
  {
   "cell_type": "code",
   "execution_count": 21,
   "metadata": {},
   "outputs": [],
   "source": [
    "# Sintomas\n",
    "# Febre, calafrios, cansaço, dor de cabeça, dor muscular, nauseas, vomitos\n",
    "\n",
    "# Matriz de Treinamento\n",
    "paciente_0_p = [1, 1, 1, 1, 1, 1, 0]\n",
    "paciente_1_p = [1, 1, 1, 1, 1, 0, 0]\n",
    "paciente_2_p = [1, 1, 1, 1, 0, 0, 0]\n",
    "paciente_3_p = [1, 1, 1, 0, 0, 0, 0]\n",
    "paciente_4_p = [0, 0, 0, 0, 1, 1, 1]\n",
    "\n",
    "paciente_5_n = [1, 1, 0, 0, 0, 0, 0]\n",
    "paciente_6_n = [1, 0, 0, 0, 0, 0, 0]\n",
    "paciente_7_n = [0, 0, 0, 0, 0, 0, 0]\n",
    "paciente_8_n = [0, 0, 0, 0, 0, 1, 1]\n",
    "paciente_9_n = [0, 0, 0, 1, 1, 0, 0]"
   ]
  },
  {
   "cell_type": "code",
   "execution_count": 22,
   "metadata": {},
   "outputs": [],
   "source": [
    "# Dados em um array\n",
    "dados = [paciente_0_p, paciente_1_p, paciente_2_p, paciente_3_p, paciente_4_p, paciente_5_n, paciente_6_n,\n",
    "         paciente_7_n, paciente_8_n, paciente_9_n]"
   ]
  },
  {
   "cell_type": "code",
   "execution_count": 23,
   "metadata": {
    "collapsed": true
   },
   "outputs": [],
   "source": [
    "# Marcações para treinamento\n",
    "marcacoes = [1, 1, 1, 1, 1, -1, -1, -1, -1, -1]"
   ]
  },
  {
   "cell_type": "code",
   "execution_count": 24,
   "metadata": {
    "collapsed": true
   },
   "outputs": [],
   "source": [
    "# Paciente a ser testado\n",
    "paciente1 = [0, 0, 0, 1, 0, 0, 0]\n",
    "paciente2 = [0, 0, 1, 0, 1, 1, 0]\n",
    "paciente3 = [1, 1, 1, 0, 1, 1, 0]"
   ]
  },
  {
   "cell_type": "code",
   "execution_count": 25,
   "metadata": {
    "collapsed": true
   },
   "outputs": [],
   "source": [
    "testes = [paciente1, paciente2, paciente3]"
   ]
  },
  {
   "cell_type": "code",
   "execution_count": 26,
   "metadata": {
    "collapsed": true
   },
   "outputs": [],
   "source": [
    "marcacoes_teste = [-1, 1, 1]"
   ]
  },
  {
   "cell_type": "code",
   "execution_count": 27,
   "metadata": {
    "collapsed": true
   },
   "outputs": [],
   "source": [
    "# Modelo de aprendisagem\n",
    "modelo = MultinomialNB()"
   ]
  },
  {
   "cell_type": "code",
   "execution_count": 28,
   "metadata": {},
   "outputs": [
    {
     "data": {
      "text/plain": [
       "MultinomialNB(alpha=1.0, class_prior=None, fit_prior=True)"
      ]
     },
     "execution_count": 28,
     "metadata": {},
     "output_type": "execute_result"
    }
   ],
   "source": [
    "# Treinamento\n",
    "modelo.fit(dados, marcacoes)"
   ]
  },
  {
   "cell_type": "code",
   "execution_count": 29,
   "metadata": {},
   "outputs": [],
   "source": [
    "# Predição do paciente\n",
    "resultado = modelo.predict(testes)"
   ]
  },
  {
   "cell_type": "code",
   "execution_count": 37,
   "metadata": {},
   "outputs": [
    {
     "data": {
      "text/plain": [
       "array([-1,  1,  1])"
      ]
     },
     "execution_count": 37,
     "metadata": {},
     "output_type": "execute_result"
    }
   ],
   "source": [
    "resultado"
   ]
  },
  {
   "cell_type": "code",
   "execution_count": 30,
   "metadata": {},
   "outputs": [
    {
     "data": {
      "text/plain": [
       "array([0, 0, 0])"
      ]
     },
     "execution_count": 30,
     "metadata": {},
     "output_type": "execute_result"
    }
   ],
   "source": [
    "resultado - marcacoes_teste"
   ]
  },
  {
   "cell_type": "code",
   "execution_count": 31,
   "metadata": {
    "collapsed": true
   },
   "outputs": [],
   "source": [
    "diferencas = resultado - marcacoes_teste"
   ]
  },
  {
   "cell_type": "code",
   "execution_count": 32,
   "metadata": {},
   "outputs": [],
   "source": [
    "acertos = [d for d in diferencas if d==0]\n",
    "total_de_acertos = len(acertos)\n",
    "total_de_elementos = len(testes)"
   ]
  },
  {
   "cell_type": "code",
   "execution_count": 35,
   "metadata": {},
   "outputs": [],
   "source": [
    "taxa_de_acerto = 100.0 * total_de_acertos / total_de_elementos"
   ]
  },
  {
   "cell_type": "code",
   "execution_count": 36,
   "metadata": {},
   "outputs": [
    {
     "data": {
      "text/plain": [
       "100.0"
      ]
     },
     "execution_count": 36,
     "metadata": {},
     "output_type": "execute_result"
    }
   ],
   "source": [
    "taxa_de_acerto"
   ]
  }
 ],
 "metadata": {
  "kernelspec": {
   "display_name": "Python 3",
   "language": "python",
   "name": "python3"
  },
  "language_info": {
   "codemirror_mode": {
    "name": "ipython",
    "version": 3
   },
   "file_extension": ".py",
   "mimetype": "text/x-python",
   "name": "python",
   "nbconvert_exporter": "python",
   "pygments_lexer": "ipython3",
   "version": "3.6.3"
  }
 },
 "nbformat": 4,
 "nbformat_minor": 2
}
